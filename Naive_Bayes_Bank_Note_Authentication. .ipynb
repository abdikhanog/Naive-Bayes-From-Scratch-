{
 "cells": [
  {
   "cell_type": "markdown",
   "metadata": {},
   "source": [
    "# Bank Note Authentication data "
   ]
  },
  {
   "cell_type": "markdown",
   "metadata": {},
   "source": [
    "Data was extracted from images that were taken from genuine and forged banknote-like specimens. For digitization, an industrial camera usually used for print inspection was used. The final images have 400x 400 pixels. Due to the object lens and distance to the investigated object gray-scale pictures with a resolution of about 660 dpi were gained. Wavelet Transform tool were used to extract features from images."
   ]
  },
  {
   "cell_type": "markdown",
   "metadata": {},
   "source": [
    "The data set has no missing values and consists of four predictor variables, all measured on the continuous level. It has one dependent variable, measured as an integer. Data can be accessed via; https://archive.ics.uci.edu/ml/datasets/banknote+authentication"
   ]
  },
  {
   "cell_type": "markdown",
   "metadata": {},
   "source": [
    "the Dataset;\n",
    "1. variance of Wavelet Transformed image (continuous)\n",
    "2. skewness of Wavelet Transformed image (continuous)\n",
    "3. curtosis of Wavelet Transformed image (continuous)\n",
    "4. entropy of image (continuous)\n",
    "5. class (integer)"
   ]
  },
  {
   "cell_type": "markdown",
   "metadata": {},
   "source": [
    "Note that Wavelet Transformations have been used to \"gain and analyze the spectral components of banknote representations\". Also note that observations belonging to class '0' are genuine banknotes, and observations belonging to class '1' are fraudulent banknotes."
   ]
  },
  {
   "cell_type": "markdown",
   "metadata": {},
   "source": [
    "# Naive Bayes Algorithm "
   ]
  },
  {
   "cell_type": "markdown",
   "metadata": {},
   "source": [
    "Naive Bayes is a machine learning algorithm that is best used for classification tasks. It is based on Bayes theorem;\n",
    "P(parameter|data) = (P(data|Parameter) x P(Parameter)) / P(Data). Where P(parameter|data) is known as the posterior probability, (P(data|Parameter) is known as the likelihood, P(Parameter) is known as the prior probability and P(Data) is known as the evidence. Is is called 'Naive' because the predictor variables are assumed to be independent which is rarely the case. Another associated assumption is; predictor variables are assumed to have an equal effect on the outcome. Naive Bayes algorithm is popular because they are fast and easy to implement. "
   ]
  },
  {
   "cell_type": "markdown",
   "metadata": {},
   "source": [
    "# Building Naive Bayes algorithm From Scratch On Bank Note Data. "
   ]
  },
  {
   "cell_type": "code",
   "execution_count": 1,
   "metadata": {},
   "outputs": [],
   "source": [
    "# import relevant packages\n",
    "import pandas as pd\n",
    "import matplotlib.pyplot as plt\n",
    "import seaborn as sns\n",
    "import numpy as np\n",
    "from math import sqrt, pi, exp\n",
    "import random"
   ]
  },
  {
   "cell_type": "code",
   "execution_count": 2,
   "metadata": {},
   "outputs": [],
   "source": [
    "# set random seed to '3'. This is done to reproduce outputs \n",
    "np.random.seed(3)"
   ]
  },
  {
   "cell_type": "code",
   "execution_count": 3,
   "metadata": {},
   "outputs": [
    {
     "data": {
      "text/html": [
       "<div>\n",
       "<style scoped>\n",
       "    .dataframe tbody tr th:only-of-type {\n",
       "        vertical-align: middle;\n",
       "    }\n",
       "\n",
       "    .dataframe tbody tr th {\n",
       "        vertical-align: top;\n",
       "    }\n",
       "\n",
       "    .dataframe thead th {\n",
       "        text-align: right;\n",
       "    }\n",
       "</style>\n",
       "<table border=\"1\" class=\"dataframe\">\n",
       "  <thead>\n",
       "    <tr style=\"text-align: right;\">\n",
       "      <th></th>\n",
       "      <th>0</th>\n",
       "      <th>1</th>\n",
       "      <th>2</th>\n",
       "      <th>3</th>\n",
       "      <th>4</th>\n",
       "    </tr>\n",
       "  </thead>\n",
       "  <tbody>\n",
       "    <tr>\n",
       "      <td>0</td>\n",
       "      <td>3.62160</td>\n",
       "      <td>8.6661</td>\n",
       "      <td>-2.8073</td>\n",
       "      <td>-0.44699</td>\n",
       "      <td>0</td>\n",
       "    </tr>\n",
       "    <tr>\n",
       "      <td>1</td>\n",
       "      <td>4.54590</td>\n",
       "      <td>8.1674</td>\n",
       "      <td>-2.4586</td>\n",
       "      <td>-1.46210</td>\n",
       "      <td>0</td>\n",
       "    </tr>\n",
       "    <tr>\n",
       "      <td>2</td>\n",
       "      <td>3.86600</td>\n",
       "      <td>-2.6383</td>\n",
       "      <td>1.9242</td>\n",
       "      <td>0.10645</td>\n",
       "      <td>0</td>\n",
       "    </tr>\n",
       "    <tr>\n",
       "      <td>3</td>\n",
       "      <td>3.45660</td>\n",
       "      <td>9.5228</td>\n",
       "      <td>-4.0112</td>\n",
       "      <td>-3.59440</td>\n",
       "      <td>0</td>\n",
       "    </tr>\n",
       "    <tr>\n",
       "      <td>4</td>\n",
       "      <td>0.32924</td>\n",
       "      <td>-4.4552</td>\n",
       "      <td>4.5718</td>\n",
       "      <td>-0.98880</td>\n",
       "      <td>0</td>\n",
       "    </tr>\n",
       "  </tbody>\n",
       "</table>\n",
       "</div>"
      ],
      "text/plain": [
       "         0       1       2        3  4\n",
       "0  3.62160  8.6661 -2.8073 -0.44699  0\n",
       "1  4.54590  8.1674 -2.4586 -1.46210  0\n",
       "2  3.86600 -2.6383  1.9242  0.10645  0\n",
       "3  3.45660  9.5228 -4.0112 -3.59440  0\n",
       "4  0.32924 -4.4552  4.5718 -0.98880  0"
      ]
     },
     "execution_count": 3,
     "metadata": {},
     "output_type": "execute_result"
    }
   ],
   "source": [
    "# convert dataset, which is in text format to pandas dataframe\n",
    "df = pd.read_csv('data_banknote_authentication.txt', header = None)\n",
    "# display data columns\n",
    "df.head()"
   ]
  },
  {
   "cell_type": "code",
   "execution_count": 4,
   "metadata": {},
   "outputs": [],
   "source": [
    "# rename data and give columns their names\n",
    "bank = df.rename(columns = {0:'Image Variance', 1:'Image Skewness', 2:'Image Kurtosis', 3:'Entropy', 4:'Class'})"
   ]
  },
  {
   "cell_type": "code",
   "execution_count": 5,
   "metadata": {},
   "outputs": [
    {
     "data": {
      "text/plain": [
       "Image Variance    0.0\n",
       "Image Skewness    0.0\n",
       "Image Kurtosis    0.0\n",
       "Entropy           0.0\n",
       "Class             0.0\n",
       "dtype: float64"
      ]
     },
     "execution_count": 5,
     "metadata": {},
     "output_type": "execute_result"
    }
   ],
   "source": [
    "# check no data has been omitted\n",
    "bank.isnull().mean()"
   ]
  },
  {
   "cell_type": "code",
   "execution_count": 6,
   "metadata": {},
   "outputs": [
    {
     "data": {
      "text/html": [
       "<div>\n",
       "<style scoped>\n",
       "    .dataframe tbody tr th:only-of-type {\n",
       "        vertical-align: middle;\n",
       "    }\n",
       "\n",
       "    .dataframe tbody tr th {\n",
       "        vertical-align: top;\n",
       "    }\n",
       "\n",
       "    .dataframe thead th {\n",
       "        text-align: right;\n",
       "    }\n",
       "</style>\n",
       "<table border=\"1\" class=\"dataframe\">\n",
       "  <thead>\n",
       "    <tr style=\"text-align: right;\">\n",
       "      <th></th>\n",
       "      <th>Count</th>\n",
       "      <th>Mean</th>\n",
       "      <th>Standard Deviation</th>\n",
       "      <th>Minimum</th>\n",
       "      <th>Maximum</th>\n",
       "    </tr>\n",
       "  </thead>\n",
       "  <tbody>\n",
       "    <tr>\n",
       "      <td>Image Variance</td>\n",
       "      <td>1372</td>\n",
       "      <td>0.433735</td>\n",
       "      <td>2.84276</td>\n",
       "      <td>-7.0421</td>\n",
       "      <td>6.8248</td>\n",
       "    </tr>\n",
       "    <tr>\n",
       "      <td>Image Skewness</td>\n",
       "      <td>1372</td>\n",
       "      <td>1.92235</td>\n",
       "      <td>5.86905</td>\n",
       "      <td>-13.7731</td>\n",
       "      <td>12.9516</td>\n",
       "    </tr>\n",
       "    <tr>\n",
       "      <td>Image Kurtosis</td>\n",
       "      <td>1372</td>\n",
       "      <td>1.39763</td>\n",
       "      <td>4.31003</td>\n",
       "      <td>-5.2861</td>\n",
       "      <td>17.9274</td>\n",
       "    </tr>\n",
       "    <tr>\n",
       "      <td>Entropy</td>\n",
       "      <td>1372</td>\n",
       "      <td>-1.19166</td>\n",
       "      <td>2.10101</td>\n",
       "      <td>-8.5482</td>\n",
       "      <td>2.4495</td>\n",
       "    </tr>\n",
       "  </tbody>\n",
       "</table>\n",
       "</div>"
      ],
      "text/plain": [
       "               Count      Mean Standard Deviation  Minimum  Maximum\n",
       "Image Variance  1372  0.433735            2.84276  -7.0421   6.8248\n",
       "Image Skewness  1372   1.92235            5.86905 -13.7731  12.9516\n",
       "Image Kurtosis  1372   1.39763            4.31003  -5.2861  17.9274\n",
       "Entropy         1372  -1.19166            2.10101  -8.5482   2.4495"
      ]
     },
     "metadata": {},
     "output_type": "display_data"
    }
   ],
   "source": [
    "# create a new dataframe to store descriptive statistics of bank data (predictor) columns\n",
    "bank_descriptive_stats = pd.DataFrame(columns = ['Count', 'Mean', 'Standard Deviation', 'Minimum', 'Maximum'], index = ['Image Variance', 'Image Skewness', 'Image Kurtosis', 'Entropy']) \n",
    "# calculate and get relevant descriptive statistics and store in bank_descriptive_stats\n",
    "# loop over rows in bank_descriptive_stats\n",
    "for index, rows in bank_descriptive_stats.iterrows():\n",
    "    # get number of observations for each predictor variable\n",
    "    bank_descriptive_stats.loc[index, 'Count' ] = bank[index].count()\n",
    "    # calculate  mean for relevant predictor\n",
    "    bank_descriptive_stats.loc[index, 'Mean' ] = bank[index].mean()\n",
    "    # calculate the standard deviation for relevant predictor\n",
    "    bank_descriptive_stats.loc[index, 'Standard Deviation' ] = bank[index].std()\n",
    "    # retrieve the minimum for relevant predictor\n",
    "    bank_descriptive_stats.loc[index, 'Minimum' ] = bank[index].min()\n",
    "    # retrieve the maximum for relevant predictor\n",
    "    bank_descriptive_stats.loc[index, 'Maximum' ] = bank[index].max()\n",
    "\n",
    "display(bank_descriptive_stats)\n",
    "\n",
    "\n",
    "    \n"
   ]
  },
  {
   "cell_type": "code",
   "execution_count": null,
   "metadata": {},
   "outputs": [],
   "source": []
  },
  {
   "cell_type": "code",
   "execution_count": null,
   "metadata": {},
   "outputs": [],
   "source": []
  },
  {
   "cell_type": "code",
   "execution_count": 7,
   "metadata": {},
   "outputs": [
    {
     "data": {
      "text/html": [
       "<div>\n",
       "<style scoped>\n",
       "    .dataframe tbody tr th:only-of-type {\n",
       "        vertical-align: middle;\n",
       "    }\n",
       "\n",
       "    .dataframe tbody tr th {\n",
       "        vertical-align: top;\n",
       "    }\n",
       "\n",
       "    .dataframe thead th {\n",
       "        text-align: right;\n",
       "    }\n",
       "</style>\n",
       "<table border=\"1\" class=\"dataframe\">\n",
       "  <thead>\n",
       "    <tr style=\"text-align: right;\">\n",
       "      <th></th>\n",
       "      <th>Real</th>\n",
       "      <th>fraudulent</th>\n",
       "    </tr>\n",
       "  </thead>\n",
       "  <tbody>\n",
       "    <tr>\n",
       "      <td>count</td>\n",
       "      <td>762</td>\n",
       "      <td>610</td>\n",
       "    </tr>\n",
       "    <tr>\n",
       "      <td>proportion</td>\n",
       "      <td>0.56</td>\n",
       "      <td>0.44</td>\n",
       "    </tr>\n",
       "  </tbody>\n",
       "</table>\n",
       "</div>"
      ],
      "text/plain": [
       "            Real fraudulent\n",
       "count        762        610\n",
       "proportion  0.56       0.44"
      ]
     },
     "metadata": {},
     "output_type": "display_data"
    }
   ],
   "source": [
    "# get the class distribution of bank data  and \n",
    "# create new dataframe to store count and proportion of observations belonging to each class\n",
    "bank_class_dist = pd.DataFrame(columns = ['Real', 'fraudulent'], index=['count', 'proportion'])\n",
    "\n",
    "# get the count for each class\n",
    "Real_count = bank.loc[bank['Class'] == 0, 'Class'].count()\n",
    "fraudulent_count = bank.loc[bank['Class'] == 1, 'Class'].count()\n",
    "\n",
    "# calculate the proportion for each class\n",
    "Real_prop = round(Real_count/bank['Class'].count(), 2)\n",
    "fraudulent_prop = round(fraudulent_count/bank['Class'].count(), 2)\n",
    "\n",
    "# store above values in 'bank_class_dist'\n",
    "bank_class_dist.loc['count', 'Real'] = Real_count\n",
    "bank_class_dist.loc['count', 'fraudulent'] = fraudulent_count\n",
    "bank_class_dist.loc['proportion', 'Real'] = Real_prop\n",
    "bank_class_dist.loc['proportion', 'fraudulent'] = fraudulent_prop\n",
    "\n",
    "# display bank_class_dist\n",
    "display(bank_class_dist)\n"
   ]
  },
  {
   "cell_type": "code",
   "execution_count": 11,
   "metadata": {},
   "outputs": [
    {
     "data": {
      "image/png": "[encoded data removed]",
      "text/plain": [
       "<Figure size 1080x360 with 4 Axes>"
      ]
     },
     "metadata": {
      "needs_background": "light"
     },
     "output_type": "display_data"
    }
   ],
   "source": [
    "# create histograms for predictors of banknote_data\n",
    "# pyplot subplots\n",
    "fig, axes = plt.subplots(nrows=1, ncols=4, figsize=(15,5))\n",
    "\n",
    "# plot WLT Image Variance predictor values on histogram\n",
    "axes[0].hist(bank['Image Variance'], bins=20)\n",
    "plt.sca(axes[0])\n",
    "plt.xlabel('WLT Image Variance Values')\n",
    "plt.ylabel('Frequency')\n",
    "\n",
    "# plot WLT Image Skewness predictor values on histogram\n",
    "axes[1].hist(bank['Image Skewness'], bins=20)\n",
    "plt.sca(axes[1])\n",
    "plt.xlabel('WLT Image Skewness Values')\n",
    "\n",
    "# plot WLT Image Kurtosis predictor values on histogram\n",
    "axes[2].hist(bank['Image Kurtosis'], bins=20)\n",
    "plt.sca(axes[2])\n",
    "plt.xlabel('WLT Image Kurtosis')\n",
    "\n",
    "# plot Image Entropy predictor values on histogram\n",
    "axes[3].hist(bank['Entropy'], bins=20)\n",
    "plt.sca(axes[3])\n",
    "plt.xlabel('Image Entropy')\n",
    "\n",
    "# adjust spacing properties of subplot\n",
    "fig.subplots_adjust(left=0.05, right=0.95, bottom=0.1, top=0.9,\n",
    "                    hspace=0.2, wspace=0.2)\n",
    "# set title of subplot figure\n",
    "fig.suptitle('Predictor Histograms')\n",
    "\n",
    "# display histograms\n",
    "plt.show()"
   ]
  },
  {
   "cell_type": "code",
   "execution_count": 12,
   "metadata": {},
   "outputs": [
    {
     "data": {
      "image/png": "[encoded data removed]",
      "text/plain": [
       "<Figure size 360x360 with 2 Axes>"
      ]
     },
     "metadata": {
      "needs_background": "light"
     },
     "output_type": "display_data"
    }
   ],
   "source": [
    "# create correlation heatmap for predictors of banknote_data\n",
    "# pyplot subplots\n",
    "fig, axes = plt.subplots(figsize=(5, 5))\n",
    "\n",
    "# plot seaborn heatmap using pearson's correlation coefficient \n",
    "sns.heatmap(bank.drop(['Class'], axis=1).corr(method='pearson'), cmap='Blues', ax=axes)\n",
    "# adjust rotation of x tick labels and y tick labels\n",
    "axes.set_yticklabels(['WLT Image Variance', 'WLT Image Skewness', 'WLT Image Kurtosis', 'Image Entropy'], rotation=0)\n",
    "axes.set_xticklabels(['WLT Image Variance', 'WLT Image Skewness', 'WLT Image Kurtosis', 'Image Entropy'], rotation=90)\n",
    "\n",
    "# adjust spacing properties of subplot\n",
    "fig.subplots_adjust(left=0.15, right=0.95, bottom=0.1, top=0.9,\n",
    "                    hspace=0.2, wspace=0.2)\n",
    "# set title of subplot figure\n",
    "fig.suptitle('Pearson\\'s Correlation Matrix')\n",
    "\n",
    "# display heatmap\n",
    "plt.show()"
   ]
  },
  {
   "cell_type": "code",
   "execution_count": 14,
   "metadata": {},
   "outputs": [
    {
     "data": {
      "text/html": [
       "<div>\n",
       "<style scoped>\n",
       "    .dataframe tbody tr th:only-of-type {\n",
       "        vertical-align: middle;\n",
       "    }\n",
       "\n",
       "    .dataframe tbody tr th {\n",
       "        vertical-align: top;\n",
       "    }\n",
       "\n",
       "    .dataframe thead th {\n",
       "        text-align: right;\n",
       "    }\n",
       "</style>\n",
       "<table border=\"1\" class=\"dataframe\">\n",
       "  <thead>\n",
       "    <tr style=\"text-align: right;\">\n",
       "      <th></th>\n",
       "      <th>Genuine Observations</th>\n",
       "      <th>Fraudulent Observations</th>\n",
       "    </tr>\n",
       "  </thead>\n",
       "  <tbody>\n",
       "    <tr>\n",
       "      <td>Frequency</td>\n",
       "      <td>762</td>\n",
       "      <td>610</td>\n",
       "    </tr>\n",
       "    <tr>\n",
       "      <td>Proportion</td>\n",
       "      <td>0.56</td>\n",
       "      <td>0.44</td>\n",
       "    </tr>\n",
       "  </tbody>\n",
       "</table>\n",
       "</div>"
      ],
      "text/plain": [
       "           Genuine Observations Fraudulent Observations\n",
       "Frequency                   762                     610\n",
       "Proportion                 0.56                    0.44"
      ]
     },
     "metadata": {},
     "output_type": "display_data"
    }
   ],
   "source": [
    "# retrieve class distribution of banknote_data\n",
    "# create new dataframe to store frequency and proportion of observations belonging to each class (genuine or fraudulent)\n",
    "banknote_class_dist = pd.DataFrame(columns=['Genuine Observations', 'Fraudulent Observations'], \n",
    "                                   index=['Frequency', 'Proportion'])\n",
    "\n",
    "# retrieve frequency of each class\n",
    "genuine_freq = bank.loc[bank['Class']==0, 'Class'].count()\n",
    "fraudulent_freq = bank.loc[bank['Class']==1, 'Class'].count()\n",
    "# calculate proportion of each class\n",
    "genuine_prop = round(genuine_freq/bank['Class'].count(), 2)\n",
    "fraudulent_prop = round(fraudulent_freq/bank['Class'].count(), 2)\n",
    "\n",
    "# store frequency and proportion values in banknote_class_dist\n",
    "banknote_class_dist.loc['Frequency', 'Genuine Observations'] = genuine_freq\n",
    "banknote_class_dist.loc['Frequency', 'Fraudulent Observations'] = fraudulent_freq\n",
    "banknote_class_dist.loc['Proportion', 'Genuine Observations'] =  genuine_prop\n",
    "banknote_class_dist.loc['Proportion', 'Fraudulent Observations'] = fraudulent_prop\n",
    "\n",
    "# display banknote_class_dist\n",
    "display(banknote_class_dist)"
   ]
  },
  {
   "cell_type": "markdown",
   "metadata": {},
   "source": [
    "From the exploratory data analysis conducted, the following points are evident:\n",
    "\n",
    "The WLT Image Variance and WLT Image Skewness predictors do not contain any outlier values while the WLT Image Kurtosis and Image Entropy predictors do contain a few outlier values.\n",
    "The histogram plots show that the WLT Image Variance predictor has a normal distribution, whilst the WLT Image Skewness predictor has a 'relative' normal distribution (the data for this predictor is slightly skewed to the left). The WLT Image Kurtosis and Image Entropy predictors have a right-skewed and left-skewed distribution respectively.\n",
    "From the correlation heatmap, there does not seem to be any pair of predictors that have significant correlation.\n",
    "There is a small class imbalance in the dataset; there are an addditional 152 observations belonging to the genuine class than the fraudulent class. We will address this next through undersampling the majority class; undersampling should work relatively well here as the dataset is of a good size, and therefore we will only be discarding approximately 11% of the observations in the overall dataset (roughly 20% of the observations belonging to the genuine class)."
   ]
  },
  {
   "cell_type": "markdown",
   "metadata": {},
   "source": [
    "# Undersampling the Majority Class and Spliting Data into Train/Test Set\n",
    "As mentioned previously, we will use undersampling of the majority class to deal with our imbalanced dataset. Furthermore, we will use a 75%/25% split for our training and testing sets respectively; the data will be randomly shuffled and we will ensure that there is roughly a equal distribution of each class in the training and testing set."
   ]
  },
  {
   "cell_type": "code",
   "execution_count": 15,
   "metadata": {},
   "outputs": [
    {
     "data": {
      "image/png": "[encoded data removed]",
      "text/plain": [
       "<Figure size 360x360 with 1 Axes>"
      ]
     },
     "metadata": {
      "needs_background": "light"
     },
     "output_type": "display_data"
    }
   ],
   "source": [
    "# Undersample majority class (genuine banknote observations) to generate balanced dataset\n",
    "# shuffle observations in banknote_data and reset index\n",
    "banknote_data = bank.sample(frac=1, random_state=10).reset_index(drop=True)\n",
    "\n",
    "# obtain indices of genuine observations in banknote_data\n",
    "genuine_obs = bank.loc[bank['Class']==0].index\n",
    "# obtain indices of fraudulent observations in banknote_data\n",
    "fraudulent_obs = bank.loc[bank['Class']==1].index\n",
    "\n",
    "# obtain random sample of genuine observations (we need 610 observations to make the dataset balanced!)\n",
    "genuine_sample_obs = np.random.choice(genuine_obs, 610, replace=False)\n",
    "\n",
    "# concat indices of fraudulent_obs and genuine_sample_obs\n",
    "sample_obs = np.concatenate([genuine_sample_obs, fraudulent_obs])\n",
    "\n",
    "# retrieve balanced data from banknote_data\n",
    "balanced_banknote_data = bank.loc[sample_obs]\n",
    "# shuffle observations in balanced_banknote_data\n",
    "balanced_banknote_data = balanced_banknote_data.sample(frac=1, random_state=10).reset_index(drop=True)\n",
    "\n",
    "# check balanced_banknote_data is balanced through bar plot\n",
    "genuine_obs_count = balanced_banknote_data.loc[balanced_banknote_data['Class']==0, 'Class'].count()\n",
    "fraudulent_obs_count = balanced_banknote_data.loc[balanced_banknote_data['Class']==1, 'Class'].count()\n",
    "# pyplot subplots\n",
    "fig, axes = plt.subplots(figsize=(5, 5))\n",
    "plt.bar(['Genuine', 'Fraudulent'], [genuine_obs_count, fraudulent_obs_count])\n",
    "# assign labels to x-axis and y-axis\n",
    "plt.xlabel('Class')\n",
    "plt.ylabel('Frequency')\n",
    "# adjust spacing properties of subplot\n",
    "fig.subplots_adjust(left=0.15, right=0.95, bottom=0.1, top=0.9,\n",
    "                    hspace=0.2, wspace=0.2)\n",
    "# set title of subplot figure\n",
    "fig.suptitle('Class Distribution')\n",
    "\n",
    "# display heatmap\n",
    "plt.show()"
   ]
  },
  {
   "cell_type": "code",
   "execution_count": 17,
   "metadata": {},
   "outputs": [],
   "source": [
    "# split balanced_banknote_data into train and test set\n",
    "# function for train and test set split\n",
    "def train_test_split(dataset, test_size):\n",
    "    # obtain indices of genuine observations in dataset\n",
    "    genuine_obs = dataset.loc[dataset['Class']==0].index\n",
    "    # obtain indices of fraudulent observations in dataset\n",
    "    fraudulent_obs = dataset.loc[dataset['Class']==1].index\n",
    "    \n",
    "    # obtain random indices for genuine observations that consist for the training set\n",
    "    genuine_train_obs = list(np.random.choice(genuine_obs, int(round(len(genuine_obs)*(1-test_size), 0)), replace=False))\n",
    "    # obtain random indices for fraudulent observations that consist for the training set\n",
    "    fraudulent_train_obs = list(np.random.choice(fraudulent_obs, int(round(len(fraudulent_obs)*(1-test_size), 0)), replace=False))\n",
    "    \n",
    "    # obtain indices for genuine observations that consist for the test set\n",
    "    genuine_test_obs = list(set(genuine_obs)-set(genuine_train_obs))\n",
    "    # obtain indices for fraudulent observations that consist for the test set\n",
    "    fraudulent_test_obs = list(set(fraudulent_obs)-set(fraudulent_train_obs))\n",
    "    \n",
    "    # join genuine_train_obs and fraudulent_train_obs to obtain indices for training set\n",
    "    train_obs = genuine_train_obs + fraudulent_train_obs\n",
    "    # join genuine_test_obs and fraudulent_test_obs to obtain indices for test set\n",
    "    test_obs = genuine_test_obs + fraudulent_test_obs\n",
    "    \n",
    "    # retrieve training set data from dataset and shuffle observations\n",
    "    train_data = dataset.loc[train_obs].reset_index(drop=True)\n",
    "    train_data = train_data.sample(frac=1, random_state=10).reset_index(drop=True)\n",
    "    # retrieve test set date from dataset and shuffle observations\n",
    "    test_data = dataset.loc[test_obs].reset_index(drop=True)\n",
    "    test_data = test_data.sample(frac=1, random_state=10).reset_index(drop=True)\n",
    "    \n",
    "    return train_data, test_data"
   ]
  },
  {
   "cell_type": "code",
   "execution_count": 18,
   "metadata": {},
   "outputs": [],
   "source": [
    "# obtain training and test data using train_test_split function\n",
    "banknote_train_data, banknote_test_data = train_test_split(balanced_banknote_data, 0.25)"
   ]
  },
  {
   "cell_type": "markdown",
   "metadata": {},
   "source": [
    "# Construct Functions for Naïve Bayes Classifier\n",
    "The construction of a Naïve Bayes classifier can be broken down into the following steps:\n",
    "\n",
    "1- Separate the training data by class.\n",
    "\n",
    "2 - Summarize the training data; calculate the mean and standard deviation.\n",
    "\n",
    "3 - Summarize the training data by class.\n",
    "\n",
    "4 - Construct a Gaussian Probability Density Function to calculate the likelihood of observing a given predictor.\n",
    "\n",
    "5 - Calculate class probabilities.\n",
    "\n",
    "Please note that credit is due to Jason Brownlee at Machine Learning Mastery."
   ]
  },
  {
   "cell_type": "code",
   "execution_count": 19,
   "metadata": {},
   "outputs": [],
   "source": [
    "# separate the training data by class\n",
    "def separate_by_class(data):\n",
    "    # create dictionary to store class values and corresponding observations \n",
    "    separated_data = dict()\n",
    "    # loop over data and store observations in separated_data\n",
    "    for i in range(len(data)):\n",
    "        row_vector = data[i]\n",
    "        class_value = row_vector[-1]\n",
    "        if (class_value not in separated_data):\n",
    "            separated_data[class_value] = list()\n",
    "        separated_data[class_value].append(row_vector)\n",
    "    # return dictionary containing data separated by class value\n",
    "    return separated_data"
   ]
  },
  {
   "cell_type": "code",
   "execution_count": 20,
   "metadata": {},
   "outputs": [],
   "source": [
    "# summarize the training data; calculate the mean and standard deviation\n",
    "# function to calculate the mean\n",
    "def mean(data):\n",
    "    # mean calculation\n",
    "    data_mean = sum(data)/float(len(data))\n",
    "    # return data_mean\n",
    "    return data_mean\n",
    "\n",
    "# function to calculate the standard deviation\n",
    "def standard_deviation(data):\n",
    "    # retrieve the mean of data using the mean function above\n",
    "    data_mean = mean(data)\n",
    "    # calculate the variance\n",
    "    data_variance = sum([(x-data_mean)**2 for x in data])/float(len(data)-1)\n",
    "    # calculate the standard deviation from data_variance\n",
    "    data_stdev = sqrt(data_variance)\n",
    "    # returen data_stdev\n",
    "    return data_stdev\n",
    "\n",
    "# combine mean and standard_deviation functions in one function\n",
    "def summarize_data(data):\n",
    "    # store summarized statistics for each predictor in list \n",
    "    summaries = [(mean(column), standard_deviation(column), len(column)) for column in zip(*data)]\n",
    "    # delete last tuple in list as this is for Class column of data\n",
    "    del(summaries[-1])\n",
    "    # return summaries\n",
    "    return summaries\n",
    "\n",
    "# function to create workflow of summarizing data statistics by class\n",
    "def summarize_by_class(data):\n",
    "    # separate the data by class using the separated_data function\n",
    "    separated_data = separate_by_class(data)\n",
    "    # create dictionary to store summarized statistics for each predictor separated by class\n",
    "    summaries = dict()\n",
    "    # loop over observations in separated_data\n",
    "    for class_value, rows in separated_data.items():\n",
    "        # store summarized statistics in summaries dictionary\n",
    "        summaries[class_value] = summarize_data(rows)\n",
    "    # return summaries\n",
    "    return summaries"
   ]
  },
  {
   "cell_type": "code",
   "execution_count": 21,
   "metadata": {},
   "outputs": [],
   "source": [
    "# construct a Gaussian PDF to calculate the likelihood of observing a perdictor value given a class\n",
    "# function to calculate the Gaussian PDF function for a data point\n",
    "def calculate_gaussian_pdf(x, data_mean, data_stdev):\n",
    "    # calculate gaussian probability distribution function\n",
    "    probability = (1/(sqrt(2*pi)*data_stdev)) * exp(-((x-data_mean)**2 / (2*(data_stdev)**2)))\n",
    "    # return probability\n",
    "    return probability"
   ]
  },
  {
   "cell_type": "code",
   "execution_count": 22,
   "metadata": {},
   "outputs": [],
   "source": [
    "# calculate class probabilities\n",
    "# function to calculate class probabilities\n",
    "def calculate_class_probabilities(summaries, row):\n",
    "    # retrieve count of total rows in data\n",
    "    total_rows = sum([summaries[label][0][2] for label in summaries])\n",
    "    # create dictionary to posteiror probabilities of classes\n",
    "    probabilities = dict()\n",
    "    # loop over class values and class summaries in summaries\n",
    "    for class_value, class_summaries in summaries.items():\n",
    "        # calculate prior of class\n",
    "        probabilities[class_value] = summaries[class_value][0][2]/float(total_rows)\n",
    "        # loop over likelihood probabilities for each predictor\n",
    "        for i in range(len(class_summaries)):\n",
    "            data_mean, data_stdev, count = class_summaries[i]\n",
    "            # calculate posterior of class \n",
    "            probabilities[class_value] *= calculate_gaussian_pdf(row[i], data_mean, data_stdev)\n",
    "    # return probabilities\n",
    "    return probabilities"
   ]
  },
  {
   "cell_type": "markdown",
   "metadata": {},
   "source": [
    "# Predictions for Naïve Bayes Classifier\n",
    "In order to make predictions with the Naïve Bayes classifier, we will create a 'predict' function using the calculate_class_probabilities function created in the cell above. Furthermore, we will create a function to fit the training set data (i.e. create the model) and make predictions on the entire test set data; the predictions will be stored in a list for easy reconciliation."
   ]
  },
  {
   "cell_type": "code",
   "execution_count": 23,
   "metadata": {},
   "outputs": [],
   "source": [
    "# function to predict the class for a given observation\n",
    "def predict_class(summaries, row):\n",
    "    # retrieve class probabilities using calculate_class_probabilities function\n",
    "    probabilities = calculate_class_probabilities(summaries, row)\n",
    "    # set 'tracker' variables to keep track of best probabilities of any one of the two classes\n",
    "    best_label, best_probability = None, -1\n",
    "    # loop over class values and corresponding probabilities in probabilities\n",
    "    for class_value, probability in probabilities.items():\n",
    "        if best_label is None or probability > best_probability:\n",
    "            best_probability = probability\n",
    "            best_label = class_value\n",
    "    # return best_label\n",
    "    return best_label\n",
    "\n",
    "# function to construct model and make predictions\n",
    "def gaussian_naive_bayes(train_data, test_data):\n",
    "    # calcualte essential statistics of the training set data\n",
    "    summarize = summarize_by_class(train_data)\n",
    "    # create list to store predictions made by the model\n",
    "    predictions = list()\n",
    "    # loop over observations in the test set data\n",
    "    for row in test_data:\n",
    "        # use the predict_class function to make predicitons of suitable class labels\n",
    "        output = predict_class(summarize, row)\n",
    "        # add observation's predicted class label to predictions\n",
    "        predictions.append(output)\n",
    "    # return predictions\n",
    "    return predictions"
   ]
  },
  {
   "cell_type": "markdown",
   "metadata": {},
   "source": [
    "# Accuracy Metric\n",
    "To evaluate the (Gaussian) Naïve Bayes classifier, we will create a function that calculates the accuracy of the model. Note that the accuracy will be displayed as a percentage (%)."
   ]
  },
  {
   "cell_type": "code",
   "execution_count": 24,
   "metadata": {},
   "outputs": [],
   "source": [
    "# function to calculate the accuracy percentage of model\n",
    "def accuracy_metric(actual_labels, predicted_labels):\n",
    "    # create variable to store the number of correct predictions\n",
    "    correct_predictions = 0\n",
    "    # loop over data and compare predicted labels and actual labels\n",
    "    for i in range(len(actual_labels)):\n",
    "        # if prediction is correct increment correct_predictions by 1\n",
    "        if actual_labels[i] == predicted_labels[i]:\n",
    "            correct_predictions += 1\n",
    "    # calculate prediction accuracy\n",
    "    accuracy = correct_predictions/float(len(actual_labels)) * 100\n",
    "    # return accuracy\n",
    "    return accuracy"
   ]
  },
  {
   "cell_type": "markdown",
   "metadata": {},
   "source": [
    "# K-fold Cross Validation\n",
    "To ensure that the (Gaussian) Naïve Bayes classifier generalizes to the dataset, we will build a function to conduct k-fold cross validation."
   ]
  },
  {
   "cell_type": "code",
   "execution_count": 26,
   "metadata": {},
   "outputs": [],
   "source": [
    "# function to split dataset into k folds\n",
    "def k_fold_cross_val_split(data, n_folds):\n",
    "    # create a list to store data for the relevant dataset split\n",
    "    dataset_split = list()\n",
    "    # copy data into a list\n",
    "    dataset_copy = list(data)\n",
    "    # calculate the data fold size\n",
    "    fold_size = int(len(data)/n_folds)\n",
    "    # loop over folds of data\n",
    "    for _ in range(n_folds):\n",
    "        # create new list to store fold data\n",
    "        fold = list()\n",
    "        while len(fold) < fold_size:\n",
    "            index = random.randrange(len(dataset_copy))\n",
    "            # note that pop removes a item in a given list and returns that specific item\n",
    "            fold.append(dataset_copy.pop(index))\n",
    "        dataset_split.append(fold)\n",
    "    # return dataset_split\n",
    "    return dataset_split"
   ]
  },
  {
   "cell_type": "markdown",
   "metadata": {},
   "source": [
    "# Evaluating the Naïve Bayes Classifier\n",
    "The final step is to construst a function to evaluate the cross validation performance of the Naïve Bayes classifier using the functions that have been formed in the code above. Note: As we are only using the training data (banknote_train_data) here as we are using the k-fold cross validation to split between individual train and test sets."
   ]
  },
  {
   "cell_type": "code",
   "execution_count": 27,
   "metadata": {},
   "outputs": [],
   "source": [
    "# function to evaluate naive bayes classifier\n",
    "def evaluate_algorithm(data, algorithm, n_folds, *args):\n",
    "    # split data into k folds using cross validation functiom\n",
    "    folds = k_fold_cross_val_split(data, n_folds)\n",
    "    # create list to store accuracy scores\n",
    "    accuracy_scores = list()\n",
    "    # loop over data in folds \n",
    "    for fold in folds:\n",
    "        # store data in train set\n",
    "        train_set_data = list(folds)\n",
    "        # remove one fold for test set (validation)\n",
    "        train_set_data.remove(fold)\n",
    "        train_set_data = sum(train_set_data, [])\n",
    "        # create list to store test set data observations\n",
    "        test_set_data = list()\n",
    "        # loop over observations in fold comprimising of test set data\n",
    "        for row in fold:\n",
    "            # copy observation to list\n",
    "            row_copy = list(row)\n",
    "            # add observation to test_set_data \n",
    "            test_set_data.append(row_copy)\n",
    "            # remove the class label of the observation for testing\n",
    "            row_copy[-1] = None\n",
    "        # retrieve predicted class labels for test_set_data\n",
    "        predicted_labels = algorithm(train_set_data, test_set_data, *args)\n",
    "        # retrieve correct class labels\n",
    "        actual_labels = [row[-1] for row in fold]\n",
    "        # calculate accuracy percentage of fold\n",
    "        accuracy = accuracy_metric(actual_labels, predicted_labels)\n",
    "        # add accuracy percentage to accuracy_scores\n",
    "        accuracy_scores.append(accuracy)\n",
    "    # return accuracy scores\n",
    "    return accuracy_scores"
   ]
  },
  {
   "cell_type": "code",
   "execution_count": 28,
   "metadata": {},
   "outputs": [
    {
     "name": "stdout",
     "output_type": "stream",
     "text": [
      "Model scores: [86.81318681318682, 84.61538461538461, 86.81318681318682, 87.91208791208791, 80.21978021978022, 94.5054945054945, 78.02197802197803, 85.71428571428571, 85.71428571428571, 80.21978021978022]\n",
      "Mean accuracy of model: 85.055%\n"
     ]
    }
   ],
   "source": [
    "# evaluate naive bayes classifier using 10-fold cross validation\n",
    "model_scores = evaluate_algorithm(banknote_train_data.values.tolist(), gaussian_naive_bayes, 10)\n",
    "# display model_scores\n",
    "print('Model scores: %s' %(model_scores))\n",
    "\n",
    "# calculate mean accuracy of model\n",
    "mean_accuracy = sum(model_scores)/float(len(model_scores))\n",
    "# display mean_accuracy\n",
    "print('Mean accuracy of model: %.3f%%' %(mean_accuracy))"
   ]
  },
  {
   "cell_type": "markdown",
   "metadata": {},
   "source": [
    "# Evaluating the Naïve Bayes Classifier (Using Test Set)\n",
    "In the code above we only used the banknote_train_data to train and test our (Gaussian) Naïve Bayes classifier; this was done because we used 10-fold cross validation. Now we will train a Naïve Bayes classifier on the whole banknote_train_data and test on banknote_test_data."
   ]
  },
  {
   "cell_type": "code",
   "execution_count": 29,
   "metadata": {},
   "outputs": [
    {
     "name": "stdout",
     "output_type": "stream",
     "text": [
      "Prediction accuracy on test set data: 85.197%\n"
     ]
    }
   ],
   "source": [
    "# train (fit) a naive bayes classifier on the banknote_train_data\n",
    "training_set = banknote_train_data.values.tolist()\n",
    "model = summarize_by_class(training_set)\n",
    "\n",
    "# list to store actual labels\n",
    "actual_list = []\n",
    "# list to store predicted labels\n",
    "predicted_list = []\n",
    "\n",
    "# test model on banknote_test_data and calculate prediction accuracy\n",
    "test_set = banknote_test_data.values.tolist()\n",
    "# create 'tracker' variable to track correct number of predictions\n",
    "correct_predictions = 0\n",
    "# loop over observations in test_set\n",
    "for i in range(len(test_set)):\n",
    "    # predict label for test_set observation using predict_class function\n",
    "    predicted_label = predict_class(model, test_set[i][0:4])\n",
    "    predicted_list.append(predicted_label)\n",
    "    # retrieve actual label for test_set observation\n",
    "    actual_label = test_set[i][-1]\n",
    "    actual_list.append(actual_label)\n",
    "    # if predicted and actual labels are identical increment correct_predictions by 1\n",
    "    if predicted_label == actual_label:\n",
    "        correct_predictions += 1\n",
    "\n",
    "# calculate prediction accuracy on test_set\n",
    "prediction_accuracy = correct_predictions/float(len(test_set)) *100\n",
    "# display prediction_accuracy\n",
    "print('Prediction accuracy on test set data: %.3f%%' %(prediction_accuracy))"
   ]
  },
  {
   "cell_type": "code",
   "execution_count": 30,
   "metadata": {},
   "outputs": [
    {
     "name": "stdout",
     "output_type": "stream",
     "text": [
      "Confusion matrix: [[tn, fp],[fn, tp]] --> [[132, 20], [25, 127]]\n",
      "Accuracy: 85.197%\n",
      "Precision: 0.864\n",
      "Recall: 0.836\n",
      "F1 Score: 0.849\n",
      "\n",
      "\n"
     ]
    },
    {
     "data": {
      "image/png": "[encoded data removed]",
      "text/plain": [
       "<Figure size 360x360 with 2 Axes>"
      ]
     },
     "metadata": {
      "needs_background": "light"
     },
     "output_type": "display_data"
    }
   ],
   "source": [
    "# construct confusion matrix for results on banknote_test_data\n",
    "# define variables for elements of confusion matrix\n",
    "tn = 0\n",
    "tp = 0\n",
    "fn = 0\n",
    "fp = 0\n",
    "# loop over entries in actual_list and predicted_list\n",
    "for i in range(len(actual_list)):\n",
    "    # true negative\n",
    "    if actual_list[i]==0 and predicted_list[i]==0:\n",
    "        tn += 1\n",
    "    # true positive\n",
    "    elif actual_list[i]==1 and predicted_list[i]==1:\n",
    "        tp += 1\n",
    "    # false negative\n",
    "    elif actual_list[i]==1 and predicted_list[i]==0:\n",
    "        fn += 1\n",
    "    # false positive\n",
    "    else:\n",
    "        fp += 1\n",
    "\n",
    "# confusion matrix\n",
    "confusion_mat = [[tn, fp],[fn, tp]]\n",
    "# display confusion_mat\n",
    "print('Confusion matrix: [[tn, fp],[fn, tp]] --> %s' %(confusion_mat))\n",
    "prediction_accuracy = (tn+tp)/(tn+tp+fn+fp) * 100\n",
    "print('Accuracy: %.3f%%' %(prediction_accuracy))\n",
    "precision = tp/(tp+fp)\n",
    "print('Precision: %.3f' %(precision))\n",
    "recall = tp/(tp+fn)\n",
    "print('Recall: %.3f' %(recall))\n",
    "f1_score = (2*(recall*precision))/(recall+precision)\n",
    "print('F1 Score: %.3f' %(f1_score))\n",
    "print('\\n')\n",
    "\n",
    "# pyplot subplots\n",
    "fig, axes = plt.subplots(figsize=(5, 5))\n",
    "# plot confusion matrix on seaborn heatmap\n",
    "sns.heatmap(confusion_mat, cmap='Blues', ax=axes)\n",
    "# adjust rotation of x tick labels and y tick labels\n",
    "axes.set_yticklabels(['Actual: Genuine', 'Actual: Fraudulent'], rotation=0)\n",
    "axes.set_xticklabels(['Predicted: Genuine', 'Predicted: Fraudulent'], rotation=90)\n",
    "\n",
    "# adjust spacing properties of subplot\n",
    "fig.subplots_adjust(left=0.15, right=0.95, bottom=0.1, top=0.9,\n",
    "                    hspace=0.2, wspace=0.2)\n",
    "\n",
    "# set title of subplot figure\n",
    "fig.suptitle('Confusion Matrix')\n",
    "\n",
    "# display heatmap\n",
    "plt.show()"
   ]
  },
  {
   "cell_type": "code",
   "execution_count": null,
   "metadata": {},
   "outputs": [],
   "source": []
  }
 ],
 "metadata": {
  "kernelspec": {
   "display_name": "Python 3",
   "language": "python",
   "name": "python3"
  },
  "language_info": {
   "codemirror_mode": {
    "name": "ipython",
    "version": 3
   },
   "file_extension": ".py",
   "mimetype": "text/x-python",
   "name": "python",
   "nbconvert_exporter": "python",
   "pygments_lexer": "ipython3",
   "version": "3.7.4"
  }
 },
 "nbformat": 4,
 "nbformat_minor": 2
}
